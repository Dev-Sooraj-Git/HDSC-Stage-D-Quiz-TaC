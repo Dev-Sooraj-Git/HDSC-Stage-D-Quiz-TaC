{
  "nbformat": 4,
  "nbformat_minor": 0,
  "metadata": {
    "colab": {
      "provenance": []
    },
    "kernelspec": {
      "name": "python3",
      "display_name": "Python 3"
    },
    "language_info": {
      "name": "python"
    }
  },
  "cells": [
    {
      "cell_type": "code",
      "source": [
        "# importing the neccessary libraries\n",
        "\n",
        "import numpy as np\n",
        "import matplotlib.pyplot as plt\n",
        "import tensorflow as tf\n",
        "from tensorflow import keras\n",
        "mnist = keras.datasets.mnist"
      ],
      "metadata": {
        "id": "GMV5dV0D_rBr"
      },
      "execution_count": null,
      "outputs": []
    },
    {
      "cell_type": "code",
      "source": [
        "(train_images, train_labels), (test_images, test_labels) = mnist.load_data()\n",
        "print(\"Training data: {}, {}\".format(train_images.shape, train_labels.shape))"
      ],
      "metadata": {
        "colab": {
          "base_uri": "https://localhost:8080/"
        },
        "id": "sdE7DC0gAipZ",
        "outputId": "3c1eac92-deae-45f6-9a36-69e2d9e81793"
      },
      "execution_count": null,
      "outputs": [
        {
          "output_type": "stream",
          "name": "stdout",
          "text": [
            "Downloading data from https://storage.googleapis.com/tensorflow/tf-keras-datasets/mnist.npz\n",
            "11490434/11490434 [==============================] - 0s 0us/step\n",
            "Training data: (60000, 28, 28), (60000,)\n"
          ]
        }
      ]
    },
    {
      "cell_type": "code",
      "source": [
        "len(train_images)"
      ],
      "metadata": {
        "colab": {
          "base_uri": "https://localhost:8080/"
        },
        "id": "4jjxZrH9Ylqk",
        "outputId": "3ea51ac6-aa8c-443f-b3c8-6914e482df12"
      },
      "execution_count": null,
      "outputs": [
        {
          "output_type": "execute_result",
          "data": {
            "text/plain": [
              "60000"
            ]
          },
          "metadata": {},
          "execution_count": 3
        }
      ]
    },
    {
      "cell_type": "code",
      "source": [
        "len(test_images)"
      ],
      "metadata": {
        "colab": {
          "base_uri": "https://localhost:8080/"
        },
        "id": "vNxDqZulY45g",
        "outputId": "c641056a-e83e-47c2-90c0-da3473520d2c"
      },
      "execution_count": null,
      "outputs": [
        {
          "output_type": "execute_result",
          "data": {
            "text/plain": [
              "10000"
            ]
          },
          "metadata": {},
          "execution_count": 4
        }
      ]
    },
    {
      "cell_type": "code",
      "source": [
        "len(train_labels)"
      ],
      "metadata": {
        "colab": {
          "base_uri": "https://localhost:8080/"
        },
        "id": "QFeRt7tMcHY_",
        "outputId": "a9748082-f3ae-40df-d7ac-f39018f0fb24"
      },
      "execution_count": null,
      "outputs": [
        {
          "output_type": "execute_result",
          "data": {
            "text/plain": [
              "60000"
            ]
          },
          "metadata": {},
          "execution_count": 5
        }
      ]
    },
    {
      "cell_type": "code",
      "source": [
        "train_images[0]"
      ],
      "metadata": {
        "colab": {
          "base_uri": "https://localhost:8080/"
        },
        "id": "EpwbjxBAchqL",
        "outputId": "54e389cf-7fd4-42ce-94c1-d2fac3f3efee"
      },
      "execution_count": null,
      "outputs": [
        {
          "output_type": "execute_result",
          "data": {
            "text/plain": [
              "array([[  0,   0,   0,   0,   0,   0,   0,   0,   0,   0,   0,   0,   0,\n",
              "          0,   0,   0,   0,   0,   0,   0,   0,   0,   0,   0,   0,   0,\n",
              "          0,   0],\n",
              "       [  0,   0,   0,   0,   0,   0,   0,   0,   0,   0,   0,   0,   0,\n",
              "          0,   0,   0,   0,   0,   0,   0,   0,   0,   0,   0,   0,   0,\n",
              "          0,   0],\n",
              "       [  0,   0,   0,   0,   0,   0,   0,   0,   0,   0,   0,   0,   0,\n",
              "          0,   0,   0,   0,   0,   0,   0,   0,   0,   0,   0,   0,   0,\n",
              "          0,   0],\n",
              "       [  0,   0,   0,   0,   0,   0,   0,   0,   0,   0,   0,   0,   0,\n",
              "          0,   0,   0,   0,   0,   0,   0,   0,   0,   0,   0,   0,   0,\n",
              "          0,   0],\n",
              "       [  0,   0,   0,   0,   0,   0,   0,   0,   0,   0,   0,   0,   0,\n",
              "          0,   0,   0,   0,   0,   0,   0,   0,   0,   0,   0,   0,   0,\n",
              "          0,   0],\n",
              "       [  0,   0,   0,   0,   0,   0,   0,   0,   0,   0,   0,   0,   3,\n",
              "         18,  18,  18, 126, 136, 175,  26, 166, 255, 247, 127,   0,   0,\n",
              "          0,   0],\n",
              "       [  0,   0,   0,   0,   0,   0,   0,   0,  30,  36,  94, 154, 170,\n",
              "        253, 253, 253, 253, 253, 225, 172, 253, 242, 195,  64,   0,   0,\n",
              "          0,   0],\n",
              "       [  0,   0,   0,   0,   0,   0,   0,  49, 238, 253, 253, 253, 253,\n",
              "        253, 253, 253, 253, 251,  93,  82,  82,  56,  39,   0,   0,   0,\n",
              "          0,   0],\n",
              "       [  0,   0,   0,   0,   0,   0,   0,  18, 219, 253, 253, 253, 253,\n",
              "        253, 198, 182, 247, 241,   0,   0,   0,   0,   0,   0,   0,   0,\n",
              "          0,   0],\n",
              "       [  0,   0,   0,   0,   0,   0,   0,   0,  80, 156, 107, 253, 253,\n",
              "        205,  11,   0,  43, 154,   0,   0,   0,   0,   0,   0,   0,   0,\n",
              "          0,   0],\n",
              "       [  0,   0,   0,   0,   0,   0,   0,   0,   0,  14,   1, 154, 253,\n",
              "         90,   0,   0,   0,   0,   0,   0,   0,   0,   0,   0,   0,   0,\n",
              "          0,   0],\n",
              "       [  0,   0,   0,   0,   0,   0,   0,   0,   0,   0,   0, 139, 253,\n",
              "        190,   2,   0,   0,   0,   0,   0,   0,   0,   0,   0,   0,   0,\n",
              "          0,   0],\n",
              "       [  0,   0,   0,   0,   0,   0,   0,   0,   0,   0,   0,  11, 190,\n",
              "        253,  70,   0,   0,   0,   0,   0,   0,   0,   0,   0,   0,   0,\n",
              "          0,   0],\n",
              "       [  0,   0,   0,   0,   0,   0,   0,   0,   0,   0,   0,   0,  35,\n",
              "        241, 225, 160, 108,   1,   0,   0,   0,   0,   0,   0,   0,   0,\n",
              "          0,   0],\n",
              "       [  0,   0,   0,   0,   0,   0,   0,   0,   0,   0,   0,   0,   0,\n",
              "         81, 240, 253, 253, 119,  25,   0,   0,   0,   0,   0,   0,   0,\n",
              "          0,   0],\n",
              "       [  0,   0,   0,   0,   0,   0,   0,   0,   0,   0,   0,   0,   0,\n",
              "          0,  45, 186, 253, 253, 150,  27,   0,   0,   0,   0,   0,   0,\n",
              "          0,   0],\n",
              "       [  0,   0,   0,   0,   0,   0,   0,   0,   0,   0,   0,   0,   0,\n",
              "          0,   0,  16,  93, 252, 253, 187,   0,   0,   0,   0,   0,   0,\n",
              "          0,   0],\n",
              "       [  0,   0,   0,   0,   0,   0,   0,   0,   0,   0,   0,   0,   0,\n",
              "          0,   0,   0,   0, 249, 253, 249,  64,   0,   0,   0,   0,   0,\n",
              "          0,   0],\n",
              "       [  0,   0,   0,   0,   0,   0,   0,   0,   0,   0,   0,   0,   0,\n",
              "          0,  46, 130, 183, 253, 253, 207,   2,   0,   0,   0,   0,   0,\n",
              "          0,   0],\n",
              "       [  0,   0,   0,   0,   0,   0,   0,   0,   0,   0,   0,   0,  39,\n",
              "        148, 229, 253, 253, 253, 250, 182,   0,   0,   0,   0,   0,   0,\n",
              "          0,   0],\n",
              "       [  0,   0,   0,   0,   0,   0,   0,   0,   0,   0,  24, 114, 221,\n",
              "        253, 253, 253, 253, 201,  78,   0,   0,   0,   0,   0,   0,   0,\n",
              "          0,   0],\n",
              "       [  0,   0,   0,   0,   0,   0,   0,   0,  23,  66, 213, 253, 253,\n",
              "        253, 253, 198,  81,   2,   0,   0,   0,   0,   0,   0,   0,   0,\n",
              "          0,   0],\n",
              "       [  0,   0,   0,   0,   0,   0,  18, 171, 219, 253, 253, 253, 253,\n",
              "        195,  80,   9,   0,   0,   0,   0,   0,   0,   0,   0,   0,   0,\n",
              "          0,   0],\n",
              "       [  0,   0,   0,   0,  55, 172, 226, 253, 253, 253, 253, 244, 133,\n",
              "         11,   0,   0,   0,   0,   0,   0,   0,   0,   0,   0,   0,   0,\n",
              "          0,   0],\n",
              "       [  0,   0,   0,   0, 136, 253, 253, 253, 212, 135, 132,  16,   0,\n",
              "          0,   0,   0,   0,   0,   0,   0,   0,   0,   0,   0,   0,   0,\n",
              "          0,   0],\n",
              "       [  0,   0,   0,   0,   0,   0,   0,   0,   0,   0,   0,   0,   0,\n",
              "          0,   0,   0,   0,   0,   0,   0,   0,   0,   0,   0,   0,   0,\n",
              "          0,   0],\n",
              "       [  0,   0,   0,   0,   0,   0,   0,   0,   0,   0,   0,   0,   0,\n",
              "          0,   0,   0,   0,   0,   0,   0,   0,   0,   0,   0,   0,   0,\n",
              "          0,   0],\n",
              "       [  0,   0,   0,   0,   0,   0,   0,   0,   0,   0,   0,   0,   0,\n",
              "          0,   0,   0,   0,   0,   0,   0,   0,   0,   0,   0,   0,   0,\n",
              "          0,   0]], dtype=uint8)"
            ]
          },
          "metadata": {},
          "execution_count": 6
        }
      ]
    },
    {
      "cell_type": "code",
      "source": [
        "plt.matshow(train_images[2])"
      ],
      "metadata": {
        "colab": {
          "base_uri": "https://localhost:8080/",
          "height": 292
        },
        "id": "p9Aa6JJkcxz8",
        "outputId": "e4c36d7a-5f45-454f-95ab-a7a2dc56e8d5"
      },
      "execution_count": null,
      "outputs": [
        {
          "output_type": "execute_result",
          "data": {
            "text/plain": [
              "<matplotlib.image.AxesImage at 0x7faaa61d9ca0>"
            ]
          },
          "metadata": {},
          "execution_count": 22
        },
        {
          "output_type": "display_data",
          "data": {
            "text/plain": [
              "<Figure size 288x288 with 1 Axes>"
            ],
            "image/png": "[encoded data removed]"
          },
          "metadata": {
            "needs_background": "light"
          }
        }
      ]
    },
    {
      "cell_type": "code",
      "source": [
        "print(\"Test data: {}, {}\".format(test_images.shape, test_labels.shape))"
      ],
      "metadata": {
        "colab": {
          "base_uri": "https://localhost:8080/"
        },
        "id": "heq8Ox01ApzS",
        "outputId": "44b76f2a-bd1e-488a-accb-a8f7df45c594"
      },
      "execution_count": null,
      "outputs": [
        {
          "output_type": "stream",
          "name": "stdout",
          "text": [
            "Test data: (10000, 28, 28), (10000,)\n"
          ]
        }
      ]
    },
    {
      "cell_type": "code",
      "source": [
        "class_labels = np.unique(train_labels)\n",
        "print(\"There are {} classes in the dataset. They are: {}\".format(len(class_labels), class_labels))"
      ],
      "metadata": {
        "colab": {
          "base_uri": "https://localhost:8080/"
        },
        "id": "sQPVdmCCAv8l",
        "outputId": "d3a15257-88f0-4fc7-bb8b-18b07a00a233"
      },
      "execution_count": null,
      "outputs": [
        {
          "output_type": "stream",
          "name": "stdout",
          "text": [
            "There are 10 classes in the dataset. They are: [0 1 2 3 4 5 6 7 8 9]\n"
          ]
        }
      ]
    },
    {
      "cell_type": "code",
      "source": [
        "plt.figure(figsize=(8, 5))\n",
        "plt.subplot(1,3,1)\n",
        "plt.imshow(train_images[0])\n",
        "plt.title(\"Label: {}\".format(train_labels[0]))\n",
        "plt.subplot(1,3,2)\n",
        "plt.imshow(train_images[2500])\n",
        "plt.title(\"Label: {}\".format(train_labels[2500]))\n",
        "plt.subplot(1,3,3)\n",
        "plt.imshow(test_images[12])\n",
        "plt.show()\n"
      ],
      "metadata": {
        "colab": {
          "base_uri": "https://localhost:8080/",
          "height": 195
        },
        "id": "ejsTHk2FA3fL",
        "outputId": "d60a4296-48e5-4db4-9908-da86571adfff"
      },
      "execution_count": null,
      "outputs": [
        {
          "output_type": "display_data",
          "data": {
            "text/plain": [
              "<Figure size 576x360 with 3 Axes>"
            ],
            "image/png": "[encoded data removed]"
          },
          "metadata": {
            "needs_background": "light"
          }
        }
      ]
    },
    {
      "cell_type": "code",
      "source": [
        "# As usual, we scale our dataset to range between 0 and 1. In this dataset, the pixel values \n",
        "# Dividing the data by 255 scales to the required range\n",
        "train_images = train_images / 255.0\n",
        "test_images = test_images / 255.0"
      ],
      "metadata": {
        "id": "e0FwYNilCMgm"
      },
      "execution_count": null,
      "outputs": []
    },
    {
      "cell_type": "code",
      "source": [
        "# Split training data to training and validation sets\n",
        "\n",
        "x_train = train_images[0:50000]\n",
        "x_val = train_images[50000:]\n",
        "y_train = train_labels[0:50000]\n",
        "y_val = train_labels[50000:]\n",
        "print(\"x_train: {}\".format(x_train.shape)) # prints x_train: (50000, 28, 28)\n",
        "print(\"x_val: {}\".format(x_val.shape)) # prints x_val: (10000, 28, 28)\n",
        "print(\"y_train: {}\".format(y_train.shape)) #prints y_train: (50000,)\n",
        "print(\"y_val: {}\".format(y_val.shape)) #prints y_val: (10000,)\n"
      ],
      "metadata": {
        "colab": {
          "base_uri": "https://localhost:8080/"
        },
        "id": "9hazwCOLCNzc",
        "outputId": "f60ca5a6-cd16-49ee-b384-f89a9119ccbd"
      },
      "execution_count": null,
      "outputs": [
        {
          "output_type": "stream",
          "name": "stdout",
          "text": [
            "x_train: (50000, 28, 28)\n",
            "x_val: (10000, 28, 28)\n",
            "y_train: (50000,)\n",
            "y_val: (10000,)\n"
          ]
        }
      ]
    },
    {
      "cell_type": "code",
      "source": [
        "# Reshape data from 28 * 28 array to a single array\n",
        "\n",
        "new_dimension = np.prod(train_images.shape[1:])\n",
        "x_train = x_train.reshape(x_train.shape[0], new_dimension)\n",
        "x_val = x_val.reshape(x_val.shape[0], new_dimension)\n",
        "test_images = test_images.reshape(test_images.shape[0], new_dimension)\n",
        "print(\"x_train: {}\".format(x_train.shape)) #prints x_train: (50000, 784)\n",
        "print(\"x_val: {}\".format(x_val.shape)) #prints x_val: (10000, 784)\n",
        "print(\"test_images: {}\".format(test_images.shape)) #prints test_images: (10000, 784)"
      ],
      "metadata": {
        "colab": {
          "base_uri": "https://localhost:8080/"
        },
        "id": "AqXdBORaCZHP",
        "outputId": "36404d46-698a-4ab3-b536-7c0ff6bd22ce"
      },
      "execution_count": null,
      "outputs": [
        {
          "output_type": "stream",
          "name": "stdout",
          "text": [
            "x_train: (50000, 784)\n",
            "x_val: (10000, 784)\n",
            "test_images: (10000, 784)\n"
          ]
        }
      ]
    },
    {
      "cell_type": "code",
      "source": [
        "# Encode labels to categorical variables\n",
        "from tensorflow.keras.utils import to_categorical\n",
        "no_labels = 10\n",
        "y_train = to_categorical(y_train, no_labels)\n",
        "y_val = to_categorical(y_val, no_labels)\n",
        "y_test = to_categorical(test_labels, no_labels)"
      ],
      "metadata": {
        "id": "IGrK8a5fCnp6"
      },
      "execution_count": null,
      "outputs": []
    },
    {
      "cell_type": "code",
      "source": [
        "import tensorflow.compat.v1 as tf\n",
        "tf.disable_v2_behavior()"
      ],
      "metadata": {
        "colab": {
          "base_uri": "https://localhost:8080/"
        },
        "id": "BMYYg6Y4DQ8E",
        "outputId": "0196d6ec-16bf-4b77-8818-5c7162aadb35"
      },
      "execution_count": null,
      "outputs": [
        {
          "output_type": "stream",
          "name": "stderr",
          "text": [
            "WARNING:tensorflow:From /usr/local/lib/python3.9/dist-packages/tensorflow/python/compat/v2_compat.py:107: disable_resource_variables (from tensorflow.python.ops.variable_scope) is deprecated and will be removed in a future version.\n",
            "Instructions for updating:\n",
            "non-resource variables are not supported in the long term\n"
          ]
        }
      ]
    },
    {
      "cell_type": "code",
      "source": [
        "# Activation functions and Neural Networks hyperparameters\n",
        "X = tf.placeholder(tf.float32, [None, new_dimension])\n",
        "Y = tf.placeholder(tf.float32, [None, no_labels])\n"
      ],
      "metadata": {
        "id": "VgaJSi8-CzH5"
      },
      "execution_count": null,
      "outputs": []
    },
    {
      "cell_type": "code",
      "source": [
        "# create model architecture\n",
        "def multilayer_perceptron(x, no_classes, first_layer_neurons=256, second_layer_neurons=128):\n",
        " # first layer\n",
        " first_weight = tf.Variable(tf.random_uniform([new_dimension, first_layer_neurons]))\n",
        " first_bias = tf.Variable(tf.zeros([first_layer_neurons]))\n",
        " first_layer_output = tf.nn.relu(tf.add(tf.matmul(x, first_weight), first_bias))\n",
        "\n",
        " # second layer\n",
        " second_weight = tf.Variable(tf.random_uniform([first_layer_neurons,second_layer_neurons]))\n",
        " second_bias = tf.Variable(tf.zeros([second_layer_neurons]))\n",
        " second_layer_output = tf.nn.relu(tf.add(tf.matmul(first_layer_output, second_weight), \n",
        " second_bias))\n",
        "\n",
        " # output layer\n",
        " final_weight = tf.Variable(tf.random_uniform([second_layer_neurons, no_classes]))\n",
        " final_bias = tf.Variable(tf.zeros([no_classes]))\n",
        " logits = tf.add(tf.matmul(second_layer_output, final_weight), final_bias)\n",
        " return logits\n"
      ],
      "metadata": {
        "id": "C-alv8pNC79k"
      },
      "execution_count": null,
      "outputs": []
    },
    {
      "cell_type": "code",
      "source": [
        "#Call the multilayer perception function\n",
        "logits = multilayer_perceptron(X, no_labels)\n",
        "learning_rate = 0.01\n",
        "#we define the loss and optimiser for the network\n",
        "loss_op = tf.reduce_mean(tf.nn.softmax_cross_entropy_with_logits(logits=logits, labels=Y))\n",
        "optimiser = tf.train.AdamOptimizer(learning_rate=learning_rate)\n",
        "train_op = optimiser.minimize(loss_op)\n"
      ],
      "metadata": {
        "colab": {
          "base_uri": "https://localhost:8080/"
        },
        "id": "-qIggmA0Df4N",
        "outputId": "b227103f-4207-426b-d652-56800e453fd9"
      },
      "execution_count": null,
      "outputs": [
        {
          "output_type": "stream",
          "name": "stderr",
          "text": [
            "WARNING:tensorflow:From /usr/local/lib/python3.9/dist-packages/tensorflow/python/util/dispatch.py:1176: softmax_cross_entropy_with_logits (from tensorflow.python.ops.nn_ops) is deprecated and will be removed in a future version.\n",
            "Instructions for updating:\n",
            "\n",
            "Future major versions of TensorFlow will allow gradients to flow\n",
            "into the labels input on backprop by default.\n",
            "\n",
            "See `tf.nn.softmax_cross_entropy_with_logits_v2`.\n",
            "\n"
          ]
        }
      ]
    },
    {
      "cell_type": "code",
      "source": [
        "#initialise the variables\n",
        "init = tf.global_variables_initializer()\n",
        "epochs = 20\n",
        "batch_size = 1000\n",
        "iteration = len(x_train) // batch_size"
      ],
      "metadata": {
        "id": "K9Ria3WRDlHf"
      },
      "execution_count": null,
      "outputs": []
    },
    {
      "cell_type": "code",
      "source": [
        "#train model\n",
        "with tf.Session() as session:\n",
        " session.run(init)\n",
        " for epoch in range(epochs):\n",
        "  average_cost = 0\n",
        "  start, end = 0, batch_size\n",
        "  for i in range(iteration):\n",
        "    batch_x, batch_y = x_train[start: end], y_train[start: end]\n",
        "    _, loss = session.run([train_op, loss_op], feed_dict={X: batch_x, Y: batch_y})\n",
        "    start += batch_size\n",
        "    end += batch_size \n",
        "    #average loss\n",
        "    average_cost += loss/iteration\n",
        "  print(\"Epoch========{}\".format(epoch))\n",
        "\n",
        "#evaluate model\n",
        " prediction = tf.nn.softmax(logits)\n",
        " ground_truth = tf.equal(tf.argmax(prediction, 1), tf.argmax(Y, 1))\n",
        " accuracy = tf.reduce_mean(tf.cast(ground_truth, \"float\"))\n",
        " print(\"Accuracy: {}\".format(accuracy.eval({X: test_images, Y: y_test})))\n"
      ],
      "metadata": {
        "colab": {
          "base_uri": "https://localhost:8080/"
        },
        "id": "uinPt-zIEN6Y",
        "outputId": "b395e778-9d0a-46c9-e40f-b69864964796"
      },
      "execution_count": null,
      "outputs": [
        {
          "output_type": "stream",
          "name": "stdout",
          "text": [
            "Epoch========0\n",
            "Epoch========1\n",
            "Epoch========2\n",
            "Epoch========3\n",
            "Epoch========4\n",
            "Epoch========5\n",
            "Epoch========6\n",
            "Epoch========7\n",
            "Epoch========8\n",
            "Epoch========9\n",
            "Epoch========10\n",
            "Epoch========11\n",
            "Epoch========12\n",
            "Epoch========13\n",
            "Epoch========14\n",
            "Epoch========15\n",
            "Epoch========16\n",
            "Epoch========17\n",
            "Epoch========18\n",
            "Epoch========19\n",
            "Accuracy: 0.920199990272522\n"
          ]
        }
      ]
    },
    {
      "cell_type": "code",
      "source": [
        "#Optimisation for training deep neural networks\n",
        "#Building a Sequential Feed Forward Network in Keras\n",
        "from tensorflow.keras.layers import Dense\n",
        "from tensorflow.keras.models import Sequential\n",
        "model = Sequential()\n",
        "model.add(Dense(256, activation='relu', input_shape=(new_dimension,)))\n",
        "model.add(Dense(128, activation='relu'))\n",
        "model.add(Dense(no_labels, activation='softmax'))\n",
        "model.compile(optimizer='adam', loss=tf.keras.losses.categorical_crossentropy, \n",
        " metrics=['accuracy'])\n",
        "history = model.fit(x_train, y_train, validation_data=(x_val, y_val), epochs=20, batch_size=1000)\n",
        "test_loss, test_accuracy = model.evaluate(test_images, y_test)\n",
        "print('Test loss: {}'.format(test_loss))\n",
        "print('Test accuracy: {}'.format(test_accuracy))"
      ],
      "metadata": {
        "colab": {
          "base_uri": "https://localhost:8080/"
        },
        "id": "Zw6xWZOfGzpS",
        "outputId": "8474350a-9aad-4f4e-e408-c283d0c1ec43"
      },
      "execution_count": null,
      "outputs": [
        {
          "output_type": "stream",
          "name": "stdout",
          "text": [
            "Train on 50000 samples, validate on 10000 samples\n",
            "Epoch 1/20\n",
            "50000/50000 [==============================] - 2s 33us/sample - loss: 0.6752 - acc: 0.8194 - val_loss: 0.2563 - val_acc: 0.9290\n",
            "Epoch 2/20\n"
          ]
        },
        {
          "output_type": "stream",
          "name": "stderr",
          "text": [
            "/usr/local/lib/python3.9/dist-packages/keras/engine/training_v1.py:2333: UserWarning: `Model.state_updates` will be removed in a future version. This property should not be used in TensorFlow 2.0, as `updates` are applied automatically.\n",
            "  updates = self.state_updates\n"
          ]
        },
        {
          "output_type": "stream",
          "name": "stdout",
          "text": [
            "50000/50000 [==============================] - 2s 31us/sample - loss: 0.2325 - acc: 0.9333 - val_loss: 0.1793 - val_acc: 0.9514\n",
            "Epoch 3/20\n",
            "50000/50000 [==============================] - 2s 30us/sample - loss: 0.1680 - acc: 0.9516 - val_loss: 0.1449 - val_acc: 0.9595\n",
            "Epoch 4/20\n",
            "50000/50000 [==============================] - 2s 38us/sample - loss: 0.1317 - acc: 0.9621 - val_loss: 0.1266 - val_acc: 0.9642\n",
            "Epoch 5/20\n",
            "50000/50000 [==============================] - 2s 48us/sample - loss: 0.1060 - acc: 0.9698 - val_loss: 0.1169 - val_acc: 0.9663\n",
            "Epoch 6/20\n",
            "50000/50000 [==============================] - 2s 30us/sample - loss: 0.0863 - acc: 0.9756 - val_loss: 0.1031 - val_acc: 0.9696\n",
            "Epoch 7/20\n",
            "50000/50000 [==============================] - 2s 31us/sample - loss: 0.0727 - acc: 0.9792 - val_loss: 0.0951 - val_acc: 0.9721\n",
            "Epoch 8/20\n",
            "50000/50000 [==============================] - 1s 30us/sample - loss: 0.0624 - acc: 0.9821 - val_loss: 0.0905 - val_acc: 0.9742\n",
            "Epoch 9/20\n",
            "50000/50000 [==============================] - 2s 31us/sample - loss: 0.0538 - acc: 0.9845 - val_loss: 0.0864 - val_acc: 0.9739\n",
            "Epoch 10/20\n",
            "50000/50000 [==============================] - 2s 31us/sample - loss: 0.0459 - acc: 0.9870 - val_loss: 0.0857 - val_acc: 0.9747\n",
            "Epoch 11/20\n",
            "50000/50000 [==============================] - 1s 30us/sample - loss: 0.0391 - acc: 0.9895 - val_loss: 0.0804 - val_acc: 0.9772\n",
            "Epoch 12/20\n",
            "50000/50000 [==============================] - 2s 42us/sample - loss: 0.0338 - acc: 0.9914 - val_loss: 0.0813 - val_acc: 0.9755\n",
            "Epoch 13/20\n",
            "50000/50000 [==============================] - 2s 43us/sample - loss: 0.0294 - acc: 0.9926 - val_loss: 0.0808 - val_acc: 0.9767\n",
            "Epoch 14/20\n",
            "50000/50000 [==============================] - 1s 30us/sample - loss: 0.0252 - acc: 0.9940 - val_loss: 0.0769 - val_acc: 0.9776\n",
            "Epoch 15/20\n",
            "50000/50000 [==============================] - 1s 30us/sample - loss: 0.0214 - acc: 0.9950 - val_loss: 0.0771 - val_acc: 0.9780\n",
            "Epoch 16/20\n",
            "50000/50000 [==============================] - 1s 30us/sample - loss: 0.0187 - acc: 0.9960 - val_loss: 0.0792 - val_acc: 0.9768\n",
            "Epoch 17/20\n",
            "50000/50000 [==============================] - 1s 30us/sample - loss: 0.0160 - acc: 0.9969 - val_loss: 0.0788 - val_acc: 0.9770\n",
            "Epoch 18/20\n",
            "50000/50000 [==============================] - 1s 30us/sample - loss: 0.0136 - acc: 0.9975 - val_loss: 0.0832 - val_acc: 0.9776\n",
            "Epoch 19/20\n",
            "50000/50000 [==============================] - 2s 36us/sample - loss: 0.0125 - acc: 0.9977 - val_loss: 0.0799 - val_acc: 0.9787\n",
            "Epoch 20/20\n",
            "50000/50000 [==============================] - 3s 57us/sample - loss: 0.0101 - acc: 0.9985 - val_loss: 0.0815 - val_acc: 0.9770\n",
            "Test loss: 0.07189296491597197\n",
            "Test accuracy: 0.979200005531311\n"
          ]
        }
      ]
    },
    {
      "cell_type": "code",
      "source": [
        "#Visualize Result\n",
        "plt.figure()\n",
        "plt.plot(history.history['loss'], 'blue')\n",
        "plt.plot(history.history['val_loss'], 'red')\n",
        "plt.legend(['Training loss', 'Validation Loss'])\n",
        "plt.xlabel('Epochs')\n",
        "plt.ylabel('Loss')\n",
        "plt.title('Loss Curves - before regularisation')"
      ],
      "metadata": {
        "colab": {
          "base_uri": "https://localhost:8080/",
          "height": 312
        },
        "id": "yvPM-E_bIMy5",
        "outputId": "4eb2b19b-cb59-4e9f-b620-070146bb6cbf"
      },
      "execution_count": null,
      "outputs": [
        {
          "output_type": "execute_result",
          "data": {
            "text/plain": [
              "Text(0.5, 1.0, 'Loss Curves - before regularisation')"
            ]
          },
          "metadata": {},
          "execution_count": 38
        },
        {
          "output_type": "display_data",
          "data": {
            "text/plain": [
              "<Figure size 432x288 with 1 Axes>"
            ],
            "image/png": "[encoded data removed]"
          },
          "metadata": {
            "needs_background": "light"
          }
        }
      ]
    },
    {
      "cell_type": "code",
      "source": [
        "#Train Again\n",
        "\n",
        "#Although the validation and training loss seem great, we can see that the validation #loss i\n",
        "#This identifies overfitting in our network. How do we proceed? #Introduce regularisation to\n",
        "\n",
        "from tensorflow.keras.layers import Dropout\n",
        "reg_model = Sequential()\n",
        "reg_model.add(Dense(256, activation='relu', input_shape=(new_dimension,)))\n",
        "reg_model.add(Dropout(0.4))\n",
        " \n",
        "\n",
        "reg_model.add(Dense(128, activation='relu'))\n",
        "reg_model.add(Dropout(0.4))\n",
        "reg_model.add(Dense(no_labels, activation='softmax'))\n",
        "reg_model.compile(optimizer='adam', loss=tf.keras.losses.categorical_crossentropy, \n",
        " metrics=['accuracy'])\n",
        "\n",
        "reg_history = reg_model.fit(x_train, y_train, validation_data=(x_val, y_val), epochs=20, batch_size=1000)\n",
        "test_loss, test_accuracy = reg_model.evaluate(test_images, y_test)\n",
        "print('Test loss: {}'.format(test_loss))\n",
        "print('Test accuracy: {}'.format(test_accuracy))\n",
        "\n",
        "test_loss, test_accuracy = reg_model.evaluate(test_images, y_test)\n",
        "print('Test loss: {}'.format(test_loss))\n",
        "print('Test accuracy: {}'.format(test_accuracy))\n",
        "\n",
        "plt.figure()\n",
        "plt.plot(reg_history.history['loss'], 'blue')\n",
        "plt.plot(reg_history.history['val_loss'], 'red')\n",
        "plt.legend(['Training loss', 'Validation Loss'])\n",
        "plt.xlabel('Epochs')\n",
        "plt.ylabel('Loss')\n",
        "plt.title('Loss Curves - after regularisation')"
      ],
      "metadata": {
        "colab": {
          "base_uri": "https://localhost:8080/",
          "height": 1000
        },
        "id": "E3SF8et0ITkw",
        "outputId": "0fdff68c-95d1-4e2f-fc70-206f803bf3f7"
      },
      "execution_count": null,
      "outputs": [
        {
          "output_type": "stream",
          "name": "stdout",
          "text": [
            "Train on 50000 samples, validate on 10000 samples\n",
            "Epoch 1/20\n",
            "50000/50000 [==============================] - 2s 39us/sample - loss: 0.9736 - acc: 0.6888 - val_loss: 0.2913 - val_acc: 0.9153\n",
            "Epoch 2/20\n",
            "50000/50000 [==============================] - 2s 35us/sample - loss: 0.3777 - acc: 0.8870 - val_loss: 0.2009 - val_acc: 0.9413\n",
            "Epoch 3/20\n",
            "50000/50000 [==============================] - 3s 65us/sample - loss: 0.2839 - acc: 0.9165 - val_loss: 0.1641 - val_acc: 0.9511\n",
            "Epoch 4/20\n",
            "50000/50000 [==============================] - 2s 40us/sample - loss: 0.2325 - acc: 0.9317 - val_loss: 0.1378 - val_acc: 0.9611\n",
            "Epoch 5/20\n",
            "50000/50000 [==============================] - 2s 36us/sample - loss: 0.2005 - acc: 0.9419 - val_loss: 0.1259 - val_acc: 0.9645\n",
            "Epoch 6/20\n",
            "50000/50000 [==============================] - 2s 35us/sample - loss: 0.1794 - acc: 0.9475 - val_loss: 0.1147 - val_acc: 0.9678\n",
            "Epoch 7/20\n",
            "50000/50000 [==============================] - 2s 36us/sample - loss: 0.1599 - acc: 0.9521 - val_loss: 0.1084 - val_acc: 0.9687\n",
            "Epoch 8/20\n",
            "50000/50000 [==============================] - 2s 35us/sample - loss: 0.1422 - acc: 0.9580 - val_loss: 0.1009 - val_acc: 0.9703\n",
            "Epoch 9/20\n",
            "50000/50000 [==============================] - 2s 44us/sample - loss: 0.1309 - acc: 0.9608 - val_loss: 0.0926 - val_acc: 0.9728\n",
            "Epoch 10/20\n",
            "50000/50000 [==============================] - 3s 54us/sample - loss: 0.1232 - acc: 0.9639 - val_loss: 0.0917 - val_acc: 0.9725\n",
            "Epoch 11/20\n",
            "50000/50000 [==============================] - 2s 35us/sample - loss: 0.1129 - acc: 0.9662 - val_loss: 0.0877 - val_acc: 0.9739\n",
            "Epoch 12/20\n",
            "50000/50000 [==============================] - 2s 35us/sample - loss: 0.1044 - acc: 0.9681 - val_loss: 0.0835 - val_acc: 0.9744\n",
            "Epoch 13/20\n",
            "50000/50000 [==============================] - 2s 36us/sample - loss: 0.0992 - acc: 0.9699 - val_loss: 0.0816 - val_acc: 0.9763\n",
            "Epoch 14/20\n",
            "50000/50000 [==============================] - 2s 36us/sample - loss: 0.0947 - acc: 0.9717 - val_loss: 0.0811 - val_acc: 0.9755\n",
            "Epoch 15/20\n",
            "50000/50000 [==============================] - 2s 36us/sample - loss: 0.0877 - acc: 0.9731 - val_loss: 0.0766 - val_acc: 0.9765\n",
            "Epoch 16/20\n",
            "50000/50000 [==============================] - 3s 54us/sample - loss: 0.0818 - acc: 0.9749 - val_loss: 0.0764 - val_acc: 0.9784\n",
            "Epoch 17/20\n",
            "50000/50000 [==============================] - 2s 42us/sample - loss: 0.0764 - acc: 0.9766 - val_loss: 0.0754 - val_acc: 0.9777\n",
            "Epoch 18/20\n",
            "50000/50000 [==============================] - 2s 36us/sample - loss: 0.0758 - acc: 0.9767 - val_loss: 0.0737 - val_acc: 0.9770\n",
            "Epoch 19/20\n",
            "50000/50000 [==============================] - 2s 35us/sample - loss: 0.0692 - acc: 0.9788 - val_loss: 0.0742 - val_acc: 0.9778\n",
            "Epoch 20/20\n",
            "50000/50000 [==============================] - 2s 35us/sample - loss: 0.0699 - acc: 0.9779 - val_loss: 0.0737 - val_acc: 0.9781\n",
            "Test loss: 0.0746898081926629\n",
            "Test accuracy: 0.9781000018119812\n",
            "Test loss: 0.0746898081926629\n",
            "Test accuracy: 0.9781000018119812\n"
          ]
        },
        {
          "output_type": "execute_result",
          "data": {
            "text/plain": [
              "Text(0.5, 1.0, 'Loss Curves - after regularisation')"
            ]
          },
          "metadata": {},
          "execution_count": 39
        },
        {
          "output_type": "display_data",
          "data": {
            "text/plain": [
              "<Figure size 432x288 with 1 Axes>"
            ],
            "image/png": "[encoded data removed]"
          },
          "metadata": {
            "needs_background": "light"
          }
        }
      ]
    },
    {
      "cell_type": "code",
      "source": [],
      "metadata": {
        "id": "vlfX-sBnJNAE"
      },
      "execution_count": null,
      "outputs": []
    }
  ]
}